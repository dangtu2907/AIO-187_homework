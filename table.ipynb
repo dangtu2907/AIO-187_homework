{
  "nbformat": 4,
  "nbformat_minor": 0,
  "metadata": {
    "colab": {
      "provenance": []
    },
    "kernelspec": {
      "name": "python3",
      "display_name": "Python 3"
    },
    "language_info": {
      "name": "python"
    }
  },
  "cells": [
    {
      "cell_type": "code",
      "execution_count": null,
      "metadata": {
        "colab": {
          "base_uri": "https://localhost:8080/"
        },
        "id": "nU2hUH79sPZV",
        "outputId": "b20257ac-699d-4a10-9fac-e20ae9de08a2"
      },
      "outputs": [
        {
          "output_type": "stream",
          "name": "stdout",
          "text": [
            "Downloading...\n",
            "From: https://drive.google.com/uc?id=1iA0WmVfW88HyJvTBSQDI5vesf-pgKabq\n",
            "To: /content/advertising.csv\n",
            "\r  0% 0.00/4.06k [00:00<?, ?B/s]\r100% 4.06k/4.06k [00:00<00:00, 10.9MB/s]\n"
          ]
        }
      ],
      "source": [
        "! gdown 1iA0WmVfW88HyJvTBSQDI5vesf-pgKabq"
      ]
    },
    {
      "cell_type": "code",
      "source": [
        "import pandas as pd\n",
        "import numpy as np\n",
        "df = pd.read_csv ('/content/advertising.csv')\n",
        "data = df.to_numpy ()\n",
        "sales_col_index = df.columns.get_loc('Sales')\n",
        "sales_max = np.max(data[:,sales_col_index])\n",
        "sales_max_index = np.where(data[:,sales_col_index] == sales_max)[0][0]\n",
        "sales_avg = np.mean(data[:,sales_col_index])\n",
        "\n",
        "print(sales_max)\n",
        "print(sales_max_index)\n",
        "print(sales_avg)\n",
        "\n",
        "scores = np.arange(7,10)\n",
        "\n",
        "for i in scores:\n",
        "  if i > sales_avg or i >= sales_avg:\n",
        "    print('good')\n",
        "  elif i == sales_avg:\n",
        "    print('average')\n",
        "  else:\n",
        "    print('bad')"
      ],
      "metadata": {
        "colab": {
          "base_uri": "https://localhost:8080/"
        },
        "id": "YtcEDY4OsXN-",
        "outputId": "55b586a2-c755-4b14-fe01-6bbaca19cc4d"
      },
      "execution_count": null,
      "outputs": [
        {
          "output_type": "stream",
          "name": "stdout",
          "text": [
            "27.0\n",
            "175\n",
            "15.130500000000001\n",
            "bad\n",
            "bad\n",
            "bad\n"
          ]
        }
      ]
    },
    {
      "cell_type": "code",
      "source": [
        "TV_col_index = df.columns.get_loc('TV')\n",
        "TV_avg = np.mean(data[:,TV_col_index])\n",
        "print(TV_avg)"
      ],
      "metadata": {
        "colab": {
          "base_uri": "https://localhost:8080/"
        },
        "id": "nuxFVo92s2u1",
        "outputId": "0cb360fa-d613-48ae-9de3-b5063f085044"
      },
      "execution_count": null,
      "outputs": [
        {
          "output_type": "stream",
          "name": "stdout",
          "text": [
            "147.0425\n"
          ]
        }
      ]
    },
    {
      "cell_type": "code",
      "source": [
        "sales_col_index = df.columns.get_loc('Sales')\n",
        "sum = 0\n",
        "sales_value = np.where(data[:,sales_col_index] >= 20)[0]\n",
        "for i in sales_value:\n",
        "  sum += 1\n",
        "print(sum)"
      ],
      "metadata": {
        "colab": {
          "base_uri": "https://localhost:8080/"
        },
        "id": "o0iOQOtwwxmF",
        "outputId": "d7a84217-c1e6-43b2-82db-091303fd738e"
      },
      "execution_count": null,
      "outputs": [
        {
          "output_type": "stream",
          "name": "stdout",
          "text": [
            "40\n"
          ]
        }
      ]
    },
    {
      "cell_type": "code",
      "source": [
        "filter_df = df[df['Sales'] >= 15]\n",
        "print(filter_df)\n",
        "average_radio = np.mean(filter_df['Radio'])\n",
        "print(average_radio)"
      ],
      "metadata": {
        "colab": {
          "base_uri": "https://localhost:8080/"
        },
        "id": "iTSl-vchxt9S",
        "outputId": "78efe29d-d4f5-4178-ec0c-5dfbf1f1f2fd"
      },
      "execution_count": null,
      "outputs": [
        {
          "output_type": "stream",
          "name": "stdout",
          "text": [
            "        TV  Radio  Newspaper  Sales\n",
            "0    230.1   37.8       69.2   22.1\n",
            "3    151.5   41.3       58.5   16.5\n",
            "4    180.8   10.8       58.4   17.9\n",
            "9    199.8    2.6       21.2   15.6\n",
            "11   214.7   24.0        4.0   17.4\n",
            "..     ...    ...        ...    ...\n",
            "188  286.0   13.9        3.7   20.9\n",
            "193  166.8   42.0        3.6   19.6\n",
            "194  149.7   35.6        6.0   17.3\n",
            "198  283.6   42.0       66.2   25.5\n",
            "199  232.1    8.6        8.7   18.4\n",
            "\n",
            "[109 rows x 4 columns]\n",
            "26.22293577981651\n"
          ]
        }
      ]
    },
    {
      "cell_type": "code",
      "source": [
        "news_index = df.columns.get_loc('Newspaper')\n",
        "news_avg = np.mean(data[:,news_index])\n",
        "filter_news = df[df['Newspaper'] > news_avg]\n",
        "total_sales = filter_news['Sales'].sum()\n",
        "print(total_sales)"
      ],
      "metadata": {
        "colab": {
          "base_uri": "https://localhost:8080/"
        },
        "id": "QmqN55oxtTtE",
        "outputId": "3402c792-80ae-400b-979e-76cfd51854c2"
      },
      "execution_count": null,
      "outputs": [
        {
          "output_type": "stream",
          "name": "stdout",
          "text": [
            "1405.1\n"
          ]
        }
      ]
    }
  ]
}